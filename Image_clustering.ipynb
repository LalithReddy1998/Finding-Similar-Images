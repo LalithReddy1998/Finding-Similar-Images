{
  "nbformat": 4,
  "nbformat_minor": 0,
  "metadata": {
    "colab": {
      "name": "Image_clustering",
      "provenance": []
    },
    "kernelspec": {
      "name": "python3",
      "display_name": "Python 3"
    }
  },
  "cells": [
    {
      "cell_type": "code",
      "metadata": {
        "id": "Doi0vYH_3vtj",
        "colab_type": "code",
        "colab": {}
      },
      "source": [
        "import cv2\n",
        "import os\n",
        "import numpy as np\n",
        "from keras.models import load_model, Model\n",
        "from sklearn.cluster import KMeans\n",
        "import matplotlib.pyplot as plt\n",
        "from keras.applications.vgg16 import VGG16, preprocess_input\n",
        "from keras.preprocessing import image\n",
        "import matplotlib.image as mpimg\n",
        "%matplotlib inline"
      ],
      "execution_count": null,
      "outputs": []
    },
    {
      "cell_type": "code",
      "metadata": {
        "id": "XW2tnzv53zXl",
        "colab_type": "code",
        "colab": {}
      },
      "source": [
        "def get_model(layer='fc2'):\n",
        "    \n",
        "    base_model = VGG16(weights='imagenet', include_top=True)\n",
        "    model = Model(inputs=base_model.input,\n",
        "                outputs=base_model.get_layer(layer).output)\n",
        "    return model\n"
      ],
      "execution_count": null,
      "outputs": []
    },
    {
      "cell_type": "code",
      "metadata": {
        "id": "GKUCOCsT56vV",
        "colab_type": "code",
        "colab": {}
      },
      "source": [
        "from google.colab import drive\n",
        "drive.mount('/content/drive')\n"
      ],
      "execution_count": null,
      "outputs": []
    },
    {
      "cell_type": "code",
      "metadata": {
        "id": "e9dU3gPZ4El4",
        "colab_type": "code",
        "colab": {}
      },
      "source": [
        "def get_files(path_to_files, size):\n",
        "    fn_imgs = []\n",
        "    files = [file for file in os.listdir(path_to_files)]\n",
        "    for file in files:\n",
        "        img = cv2.resize(cv2.imread(path_to_files+file), size)\n",
        "        fn_imgs.append([file, img])\n",
        "    return dict(fn_imgs)"
      ],
      "execution_count": null,
      "outputs": []
    },
    {
      "cell_type": "code",
      "metadata": {
        "id": "MF_xWb415MmL",
        "colab_type": "code",
        "colab": {}
      },
      "source": [
        "def feature_vector(img_arr, model):\n",
        "    if img_arr.shape[2] == 1:\n",
        "      img_arr = img_arr.repeat(3, axis=2)\n",
        "\n",
        "    # (1, 224, 224, 3)\n",
        "    arr4d = np.expand_dims(img_arr, axis=0)  \n",
        "    arr4d_pp = preprocess_input(arr4d)\n",
        "    return model.predict(arr4d_pp)[0,:] "
      ],
      "execution_count": null,
      "outputs": []
    },
    {
      "cell_type": "code",
      "metadata": {
        "id": "CVceHtzP5U7f",
        "colab_type": "code",
        "colab": {}
      },
      "source": [
        "def feature_vectors(imgs_dict, model):\n",
        "    f_vect = {}\n",
        "    for fn, img in imgs_dict.items():\n",
        "      f_vect[fn] = feature_vector(img, model)\n",
        "      return f_vect\n"
      ],
      "execution_count": null,
      "outputs": []
    },
    {
      "cell_type": "code",
      "metadata": {
        "id": "5kW5aluX5hF2",
        "colab_type": "code",
        "colab": {}
      },
      "source": [
        "imgs_dict = get_files(path_to_files = '/content/drive/My Drive/filteredImages/',size = (224, 224))\n",
        "\n",
        "# Create Keras NN model.\n",
        "model = get_model()\n",
        "\n",
        "# Feed images through the model and extract feature vectors.\n",
        "img_feature_vector = feature_vectors(imgs_dict, model)"
      ],
      "execution_count": null,
      "outputs": []
    },
    {
      "cell_type": "code",
      "metadata": {
        "id": "YG0NRxm35uJx",
        "colab_type": "code",
        "colab": {}
      },
      "source": [
        "images = list(img_feature_vector.values())\n",
        "fns = list(img_feature_vector.keys())\n",
        "sum_of_squared_distances = []\n",
        "K = range(1, 30)\n",
        "for k in K:\n",
        "    km = KMeans(n_clusters=k)\n",
        "    km = km.fit(images)\n",
        "    sum_of_squared_distances.append(km.inertia_)\n",
        "plt.plot(K, sum_of_squared_distances, 'bx-')\n",
        "plt.xlabel('k')\n",
        "plt.ylabel('Sum_of_squared_distances')\n",
        "plt.title('Elbow Method For Optimal k')\n",
        "plt.show()\n"
      ],
      "execution_count": null,
      "outputs": []
    },
    {
      "cell_type": "code",
      "metadata": {
        "id": "Dl-vaqNw7I7P",
        "colab_type": "code",
        "colab": {}
      },
      "source": [
        "kmeans = KMeans(n_clusters=8, init='k-means++')\n",
        "kmeans.fit(images)\n",
        "y_kmeans = kmeans.predict(images)\n",
        "file_names = list(imgs_dict.keys())"
      ],
      "execution_count": null,
      "outputs": []
    },
    {
      "cell_type": "code",
      "metadata": {
        "id": "iVPncx9X7Jv4",
        "colab_type": "code",
        "colab": {}
      },
      "source": [
        "n_clusters = 8\n",
        "cluster_path = '/content/drive/My Drive/Google Photos/'\n",
        "path_to_files = '/content/drive/My Drive/Google Photos/All Pics/'\n",
        "\n",
        "for c in range(0,n_clusters):\n",
        "    if not os.path.exists(cluster_path+'cluster_'+str(c)):\n",
        "        os.mkdir(cluster_path+'cluster_'+str(c))\n",
        "    \n",
        "for fn, cluster in zip(file_names, y_kmeans):\n",
        "    image = cv2.imread(path_to_files+fn)\n",
        "    cv2.imwrite(cluster_path+'cluster_'+str(cluster)+'/'+fn, image)"
      ],
      "execution_count": null,
      "outputs": []
    },
    {
      "cell_type": "code",
      "metadata": {
        "id": "y_n45ZWV7J4u",
        "colab_type": "code",
        "colab": {}
      },
      "source": [
        "fig = plt.figure(figsize=(14, 14))\n",
        "\n",
        "cluster_path = '/content/drive/My Drive/Google Photos/cluster_5/'\n",
        "images = [file for file in os.listdir(cluster_path)]\n",
        "\n",
        "for cnt, data in enumerate(images[1:30]):\n",
        "#     print(data)\n",
        "    y = fig.add_subplot(6, 5, cnt+1)\n",
        "    img = mpimg.imread(cluster_path+data)\n",
        "    y.imshow(img)\n",
        "    plt.title('cluster_5')\n",
        "    y.axes.get_xaxis().set_visible(False)\n",
        "    y.axes.get_yaxis().set_visible(False)\n"
      ],
      "execution_count": null,
      "outputs": []
    },
    {
      "cell_type": "code",
      "metadata": {
        "id": "1JhX66Dz7KDr",
        "colab_type": "code",
        "colab": {}
      },
      "source": [
        ""
      ],
      "execution_count": null,
      "outputs": []
    },
    {
      "cell_type": "code",
      "metadata": {
        "id": "KT33nzyf7J0u",
        "colab_type": "code",
        "colab": {}
      },
      "source": [
        ""
      ],
      "execution_count": null,
      "outputs": []
    },
    {
      "cell_type": "code",
      "metadata": {
        "id": "Jqojd3bX7Jq1",
        "colab_type": "code",
        "colab": {}
      },
      "source": [
        ""
      ],
      "execution_count": null,
      "outputs": []
    }
  ]
}