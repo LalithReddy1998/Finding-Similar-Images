{
 "cells": [
  {
   "cell_type": "code",
   "execution_count": 3,
   "metadata": {},
   "outputs": [],
   "source": [
    "from PIL import Image \n",
    "from shutil import copyfile \n",
    "import os, os.path "
   ]
  },
  {
   "cell_type": "code",
   "execution_count": null,
   "metadata": {},
   "outputs": [],
   "source": [
    "dataset = \"C:/Users/Lenovo/codes/Task/dataset\"\n",
    "path, dirs, files = next(os.walk(dataset))\n",
    "file_count = len(files)\n",
    "file_count "
   ]
  },
  {
   "cell_type": "code",
   "execution_count": 4,
   "metadata": {},
   "outputs": [],
   "source": [
    "def filterImages(path, Wanted_width, Wanted_height): \n",
    "\n",
    "# Defining images array for identifying only image files \n",
    "    \n",
    "    imgs = [] \n",
    "\n",
    "# List of possible images extensions  \n",
    "\n",
    "    valid_images = [\".jpg\"] \n",
    "\n",
    "# Storing all images in images array (imgs) \n",
    "    \n",
    "    for f in os.listdir(path): \n",
    "        ext = os.path.splitext(f)[1] \n",
    "\n",
    "        if ext.lower() not in valid_images: \n",
    "            continue\n",
    "        imgs.append(f) \n",
    "\n",
    "# Checking whether the filtered_Images \n",
    "# directory exists or not \n",
    "#directory = os.path.dirname('filtered_Images' + path) \n",
    "#if not os.path.exists(directory): \n",
    "#os.makedirs(directory) \n",
    "\n",
    "# Defining filtered_Images array for storing all the images we need \n",
    "    \n",
    "    filtered_Images = [] \n",
    "\n",
    "    for i in imgs: \n",
    "        image = Image.open(os.path.join(path, i)) \n",
    "\n",
    "# Storing width and height of a image \n",
    "\n",
    "        width, height = image.size \n",
    "\n",
    "# if only width exceeds the Wanted_width \n",
    "\n",
    "        if (width > Wanted_width and height <= Wanted_height): \n",
    "            image.resize((Wanted_width, (Wanted_width * height) // width)).save(i) \n",
    "\n",
    "# if only height exceeds the Wanted_height \n",
    "        \n",
    "        elif (width <= Wanted_width and height > Wanted_height): \n",
    "\n",
    "            image.resize(((Wanted_height * width) // height, Wanted_height)).save(i) \n",
    "\n",
    "# if both the paramateres exceeds  the threshold attributes \n",
    "        \n",
    "        elif (width > Wanted_width and height > Wanted_height): \n",
    "\n",
    "            image.resize((Wanted_width, Wanted_height)).save(i) \n",
    "\n",
    "        copyfile(os.path.join(path, i), os.path.join(path + \"/filteredImages\" , i)) \n",
    "\n",
    "        filtered_Images.append(i) \n",
    "\n",
    "# returning the filtered_Images array \n",
    "    return filtered_Images \n",
    "\n",
    "\n",
    "# Driver Code \n",
    "if __name__ == '__main__': \n",
    "\n",
    "    filtered_Images = [] \n",
    "    \n",
    "# Enter the path of the dataset and Wanted_width(in pixels) and Wanted_height(in pixels) \n",
    "    filtered_Images = filterImages(\"C:/Users/Lenovo/codes/Task/dataset\", 512, 512) "
   ]
  },
  {
   "cell_type": "code",
   "execution_count": null,
   "metadata": {},
   "outputs": [],
   "source": [
    "path, dirs, files = next(os.walk(\"C:/Users/Lenovo/codes/Task/dataset/filteredImages\"))\n",
    "file = len(files)\n",
    "file"
   ]
  }
 ],
 "metadata": {
  "kernelspec": {
   "display_name": "Python 3",
   "language": "python",
   "name": "python3"
  },
  "language_info": {
   "codemirror_mode": {
    "name": "ipython",
    "version": 3
   },
   "file_extension": ".py",
   "mimetype": "text/x-python",
   "name": "python",
   "nbconvert_exporter": "python",
   "pygments_lexer": "ipython3",
   "version": "3.7.4"
  }
 },
 "nbformat": 4,
 "nbformat_minor": 2
}
